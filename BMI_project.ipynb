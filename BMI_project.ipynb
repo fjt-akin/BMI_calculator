{
 "cells": [
  {
   "cell_type": "markdown",
   "metadata": {},
   "source": [
    "Building a BMI Calculator with Python"
   ]
  },
  {
   "cell_type": "code",
   "execution_count": 12,
   "metadata": {},
   "outputs": [
    {
     "name": "stdout",
     "output_type": "stream",
     "text": [
      "23.625288804872927\n",
      "Temidayo, you are normal weight\n"
     ]
    }
   ],
   "source": [
    "name = input('Enter your name: ')\n",
    "weight = int(float(input('Enter your weight in pounds: ')))\n",
    "height = int(float(input('Enter your height in inches: ')))\n",
    "BMI = (weight * 703)/(height * height)\n",
    "print(BMI)\n",
    "if BMI>0:\n",
    "    if(BMI<18.5):\n",
    "        print(f'{name}, you are underweight')\n",
    "    elif (BMI<=24.9):\n",
    "        print(f'{name}, you are normal weight')\n",
    "    elif (BMI<=29.9):\n",
    "        print(f'{name}, you are overweight. You need to exercise more and eat healthier.')\n",
    "    elif (BMI<=34.9):\n",
    "        print(f'{name}, you are obese')\n",
    "    elif (BMI<=39.9):\n",
    "        print(f'{name}, you are severely obese')\n",
    "    else:\n",
    "       print(f'{name}, you are morbidly obese')\n",
    "else:\n",
    "    print(\"Enter valid input\")"
   ]
  },
  {
   "cell_type": "code",
   "execution_count": null,
   "metadata": {},
   "outputs": [],
   "source": [
    "# Under 18.5\tUnderweight\tMinimal\n",
    "# 18.5 - 24.9\tNormal Weight\tMinimal\n",
    "# 25 - 29.9\tOverweight\tIncreased\n",
    "# 30 - 34.9\tObese\tHigh\n",
    "# 35 - 39.9\tSeverely Obese\tVery High\n",
    "# 40 and over\tMorbidly Obese\tExtremely High"
   ]
  }
 ],
 "metadata": {
  "kernelspec": {
   "display_name": "Python 3",
   "language": "python",
   "name": "python3"
  },
  "language_info": {
   "codemirror_mode": {
    "name": "ipython",
    "version": 3
   },
   "file_extension": ".py",
   "mimetype": "text/x-python",
   "name": "python",
   "nbconvert_exporter": "python",
   "pygments_lexer": "ipython3",
   "version": "3.11.6"
  },
  "orig_nbformat": 4
 },
 "nbformat": 4,
 "nbformat_minor": 2
}
